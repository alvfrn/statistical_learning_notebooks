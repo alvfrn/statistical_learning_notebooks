{
 "cells": [
  {
   "cell_type": "markdown",
   "metadata": {},
   "source": [
    "# Course presentation and objective\n",
    "\n",
    "\n",
    "\n",
    "\n",
    "<p><img style=\"float: left; margin:5px 20px 5px 1px; width:20%\" src=\"https://faculty.marshall.usc.edu/gareth-james/ISL/ISL%20Cover%202.jpg\"></p>\n",
    "\n",
    "Statistical Learning is an introductory-level course based on the book [An Introduction to Statistical Learning](https://faculty.marshall.usc.edu/gareth-james/ISL/) by  Gareth James, Daniela Witten, Trevor Hastie and Robert Tibshirani, offered by Stanford Online on EdX.\n",
    "\n",
    "The objective of this notebook collection is to help me fixate what I learn in the course and also organize the content for future queries.\n",
    "\n",
    "In each chapter, I'll try to summarize the theory and solve the **proposed problems**. The language used by the book is R.\n",
    "\n",
    "Sometimes I'll add content from the book [Elements of Statistical Learning](https://web.stanford.edu/~hastie/ElemStatLearn/) which explain some of the topics of the introductory book in more depth."
   ]
  },
  {
   "cell_type": "markdown",
   "metadata": {},
   "source": [
    "# An Overview of Statistical Learning\n",
    "\n",
    "Statistical learning refers to a set of tools used to analyse data in order to extract important patterns and trends that can help solve problems in both industry and science. \n",
    "This set of tools can be roughly categorized in **supervised** and **unsupervised** learning.\n",
    "\n",
    "Throughout the course we focus on supervised learning tools which aim to predict the **value** of an outcome measure based on a number of input measures. At the final chapter, the book introduces two unsupervised learning methods, in which the objective is not to predict the value of an outcome, but to describe the **associations** and **patterns** among a set of input measures.\n",
    "\n"
   ]
  }
 ],
 "metadata": {
  "kernelspec": {
   "display_name": "R",
   "language": "R",
   "name": "ir"
  },
  "language_info": {
   "codemirror_mode": "r",
   "file_extension": ".r",
   "mimetype": "text/x-r-source",
   "name": "R",
   "pygments_lexer": "r",
   "version": "3.6.1"
  }
 },
 "nbformat": 4,
 "nbformat_minor": 4
}
